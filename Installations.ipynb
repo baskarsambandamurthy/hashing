{
 "cells": [
  {
   "cell_type": "code",
   "execution_count": 1,
   "id": "36ed1413-d409-49af-ad04-07257220c56f",
   "metadata": {
    "execution": {
     "iopub.execute_input": "2023-02-27T08:18:24.619400Z",
     "iopub.status.busy": "2023-02-27T08:18:24.619031Z",
     "iopub.status.idle": "2023-02-27T08:18:24.622233Z",
     "shell.execute_reply": "2023-02-27T08:18:24.621705Z",
     "shell.execute_reply.started": "2023-02-27T08:18:24.619376Z"
    },
    "tags": []
   },
   "outputs": [
    {
     "name": "stdout",
     "output_type": "stream",
     "text": [
      "Collecting seaborn\n",
      "  Using cached seaborn-0.12.2-py3-none-any.whl (293 kB)\n",
      "Requirement already satisfied: numpy!=1.24.0,>=1.17 in /opt/saturncloud/envs/saturn/lib/python3.9/site-packages (from seaborn) (1.21.6)\n",
      "Requirement already satisfied: pandas>=0.25 in /opt/saturncloud/envs/saturn/lib/python3.9/site-packages (from seaborn) (1.4.2)\n",
      "Requirement already satisfied: matplotlib!=3.6.1,>=3.1 in /opt/saturncloud/envs/saturn/lib/python3.9/site-packages (from seaborn) (3.5.2)\n",
      "Requirement already satisfied: packaging>=20.0 in /opt/saturncloud/envs/saturn/lib/python3.9/site-packages (from matplotlib!=3.6.1,>=3.1->seaborn) (23.0)\n",
      "Requirement already satisfied: kiwisolver>=1.0.1 in /opt/saturncloud/envs/saturn/lib/python3.9/site-packages (from matplotlib!=3.6.1,>=3.1->seaborn) (1.4.4)\n",
      "Requirement already satisfied: pyparsing>=2.2.1 in /opt/saturncloud/envs/saturn/lib/python3.9/site-packages (from matplotlib!=3.6.1,>=3.1->seaborn) (3.0.9)\n",
      "Requirement already satisfied: pillow>=6.2.0 in /opt/saturncloud/envs/saturn/lib/python3.9/site-packages (from matplotlib!=3.6.1,>=3.1->seaborn) (9.4.0)\n",
      "Requirement already satisfied: python-dateutil>=2.7 in /opt/saturncloud/envs/saturn/lib/python3.9/site-packages (from matplotlib!=3.6.1,>=3.1->seaborn) (2.8.2)\n",
      "Requirement already satisfied: fonttools>=4.22.0 in /opt/saturncloud/envs/saturn/lib/python3.9/site-packages (from matplotlib!=3.6.1,>=3.1->seaborn) (4.38.0)\n",
      "Requirement already satisfied: cycler>=0.10 in /opt/saturncloud/envs/saturn/lib/python3.9/site-packages (from matplotlib!=3.6.1,>=3.1->seaborn) (0.11.0)\n",
      "Requirement already satisfied: pytz>=2020.1 in /opt/saturncloud/envs/saturn/lib/python3.9/site-packages (from pandas>=0.25->seaborn) (2022.7.1)\n",
      "Requirement already satisfied: six>=1.5 in /opt/saturncloud/envs/saturn/lib/python3.9/site-packages (from python-dateutil>=2.7->matplotlib!=3.6.1,>=3.1->seaborn) (1.16.0)\n",
      "Installing collected packages: seaborn\n",
      "Successfully installed seaborn-0.12.2\n"
     ]
    }
   ],
   "source": [
    "!pip install seaborn"
   ]
  },
  {
   "cell_type": "code",
   "execution_count": 2,
   "id": "152af147",
   "metadata": {},
   "outputs": [
    {
     "name": "stdout",
     "output_type": "stream",
     "text": [
      "Collecting imbalanced-learn\n",
      "  Using cached imbalanced_learn-0.10.1-py3-none-any.whl (226 kB)\n",
      "Requirement already satisfied: numpy>=1.17.3 in /opt/saturncloud/envs/saturn/lib/python3.9/site-packages (from imbalanced-learn) (1.21.6)\n",
      "Requirement already satisfied: joblib>=1.1.1 in /opt/saturncloud/envs/saturn/lib/python3.9/site-packages (from imbalanced-learn) (1.2.0)\n",
      "Requirement already satisfied: scikit-learn>=1.0.2 in /opt/saturncloud/envs/saturn/lib/python3.9/site-packages (from imbalanced-learn) (1.0.2)\n",
      "Requirement already satisfied: threadpoolctl>=2.0.0 in /opt/saturncloud/envs/saturn/lib/python3.9/site-packages (from imbalanced-learn) (3.1.0)\n",
      "Requirement already satisfied: scipy>=1.3.2 in /opt/saturncloud/envs/saturn/lib/python3.9/site-packages (from imbalanced-learn) (1.8.0)\n",
      "Installing collected packages: imbalanced-learn\n",
      "Successfully installed imbalanced-learn-0.10.1\n"
     ]
    }
   ],
   "source": [
    "!pip install -U imbalanced-learn"
   ]
  },
  {
   "cell_type": "code",
   "execution_count": 1,
   "id": "6e922946",
   "metadata": {},
   "outputs": [
    {
     "data": {
      "text/plain": [
       "'1.4.2'"
      ]
     },
     "execution_count": 1,
     "metadata": {},
     "output_type": "execute_result"
    }
   ],
   "source": [
    "# !pip show pandas\n",
    "import pandas as pd\n",
    "pd.__version__"
   ]
  },
  {
   "cell_type": "code",
   "execution_count": 1,
   "id": "1ff269eb",
   "metadata": {},
   "outputs": [
    {
     "name": "stdout",
     "output_type": "stream",
     "text": [
      "5\n"
     ]
    }
   ],
   "source": [
    "print(5)"
   ]
  },
  {
   "cell_type": "code",
   "execution_count": 2,
   "id": "ff4ddc36",
   "metadata": {},
   "outputs": [
    {
     "name": "stderr",
     "output_type": "stream",
     "text": [
      "/opt/saturncloud/envs/saturn/lib/python3.9/site-packages/xgboost/compat.py:36: FutureWarning: pandas.Int64Index is deprecated and will be removed from pandas in a future version. Use pandas.Index with the appropriate dtype instead.\n",
      "  from pandas import MultiIndex, Int64Index\n"
     ]
    },
    {
     "data": {
      "text/plain": [
       "'1.5.1'"
      ]
     },
     "execution_count": 2,
     "metadata": {},
     "output_type": "execute_result"
    }
   ],
   "source": [
    "import xgboost as xgb\n",
    "xgb.__version__"
   ]
  },
  {
   "cell_type": "code",
   "execution_count": 9,
   "id": "048bdff2",
   "metadata": {},
   "outputs": [
    {
     "name": "stdout",
     "output_type": "stream",
     "text": [
      "Found existing installation: pandas 2.0.1\n",
      "Uninstalling pandas-2.0.1:\n",
      "  Successfully uninstalled pandas-2.0.1\n"
     ]
    }
   ],
   "source": [
    "!pip uninstall pandas --yes"
   ]
  },
  {
   "cell_type": "code",
   "execution_count": 10,
   "id": "6116abca",
   "metadata": {},
   "outputs": [
    {
     "name": "stdout",
     "output_type": "stream",
     "text": [
      "Collecting pandas==2.0.1\n",
      "  Using cached pandas-2.0.1-cp39-cp39-manylinux_2_17_x86_64.manylinux2014_x86_64.whl (12.4 MB)\n",
      "Requirement already satisfied: pytz>=2020.1 in /opt/conda/envs/saturn/lib/python3.9/site-packages (from pandas==2.0.1) (2022.1)\n",
      "Requirement already satisfied: numpy>=1.20.3 in /opt/conda/envs/saturn/lib/python3.9/site-packages (from pandas==2.0.1) (1.21.6)\n",
      "Requirement already satisfied: python-dateutil>=2.8.2 in /opt/conda/envs/saturn/lib/python3.9/site-packages (from pandas==2.0.1) (2.8.2)\n",
      "Requirement already satisfied: tzdata>=2022.1 in /opt/conda/envs/saturn/lib/python3.9/site-packages (from pandas==2.0.1) (2023.3)\n",
      "Requirement already satisfied: six>=1.5 in /opt/conda/envs/saturn/lib/python3.9/site-packages (from python-dateutil>=2.8.2->pandas==2.0.1) (1.16.0)\n",
      "Installing collected packages: pandas\n",
      "Successfully installed pandas-2.0.1\n"
     ]
    }
   ],
   "source": [
    "!pip install pandas==2.0.1"
   ]
  },
  {
   "cell_type": "code",
   "execution_count": 16,
   "id": "0caf5c6f",
   "metadata": {},
   "outputs": [
    {
     "name": "stdout",
     "output_type": "stream",
     "text": [
      "Collecting package metadata (repodata.json): done\n",
      "Solving environment: | ^C\n",
      "- "
     ]
    }
   ],
   "source": [
    "# !conda install xgboost==1.7.5\n",
    "!conda remove xgboost\n",
    "# !conda install -c conda-forge xgboost==1.7.5"
   ]
  },
  {
   "cell_type": "code",
   "execution_count": 12,
   "id": "f78ce895",
   "metadata": {},
   "outputs": [
    {
     "name": "stdout",
     "output_type": "stream",
     "text": [
      "Collecting xgboost==1.7.5\n",
      "  Downloading xgboost-1.7.5-py3-none-manylinux2014_x86_64.whl (200.3 MB)\n",
      "\u001b[2K     \u001b[90m━━━━━━━━━━━━━━━━━━━━━━━━━━━━━━━━━━━━━━━\u001b[0m \u001b[32m200.3/200.3 MB\u001b[0m \u001b[31m8.9 MB/s\u001b[0m eta \u001b[36m0:00:00\u001b[0m00:01\u001b[0m00:01\u001b[0m\n",
      "\u001b[?25hRequirement already satisfied: numpy in /opt/conda/envs/saturn/lib/python3.9/site-packages (from xgboost==1.7.5) (1.21.6)\n",
      "Requirement already satisfied: scipy in /opt/conda/envs/saturn/lib/python3.9/site-packages (from xgboost==1.7.5) (1.8.0)\n",
      "Installing collected packages: xgboost\n",
      "  Attempting uninstall: xgboost\n",
      "    Found existing installation: xgboost 1.5.1\n",
      "    Uninstalling xgboost-1.5.1:\n",
      "      Successfully uninstalled xgboost-1.5.1\n",
      "Successfully installed xgboost-1.7.5\n"
     ]
    }
   ],
   "source": [
    "!pip install xgboost==1.7.5"
   ]
  },
  {
   "cell_type": "code",
   "execution_count": 1,
   "id": "24e75bb1",
   "metadata": {},
   "outputs": [
    {
     "name": "stdout",
     "output_type": "stream",
     "text": [
      "\r",
      "Reading package lists... 0%\r",
      "\r",
      "Reading package lists... 0%\r",
      "\r",
      "Reading package lists... 39%\r",
      "\r",
      "Reading package lists... Done\r",
      "\r\n",
      "\r",
      "Building dependency tree... 0%\r",
      "\r",
      "Building dependency tree... 0%\r",
      "\r",
      "Building dependency tree... 50%\r",
      "\r",
      "Building dependency tree... 50%\r",
      "\r",
      "Building dependency tree       \r",
      "\r\n",
      "\r",
      "Reading state information... 0%\r",
      "\r",
      "Reading state information... 0%\r",
      "\r",
      "Reading state information... Done\r",
      "\r\n",
      "E: Unable to locate package trash-cli\r\n"
     ]
    }
   ],
   "source": [
    "!sudo apt-get install trash-cli -y"
   ]
  },
  {
   "cell_type": "code",
   "execution_count": 2,
   "id": "f4eda792",
   "metadata": {},
   "outputs": [
    {
     "name": "stdout",
     "output_type": "stream",
     "text": [
      "Collecting trash-cli\n",
      "  Downloading trash-cli-0.23.2.13.2.tar.gz (54 kB)\n",
      "\u001b[2K     \u001b[90m━━━━━━━━━━━━━━━━━━━━━━━━━━━━━━━━━━━━━━━━\u001b[0m \u001b[32m54.9/54.9 kB\u001b[0m \u001b[31m7.5 MB/s\u001b[0m eta \u001b[36m0:00:00\u001b[0m\n",
      "\u001b[?25h  Installing build dependencies ... \u001b[?25ldone\n",
      "\u001b[?25h  Getting requirements to build wheel ... \u001b[?25ldone\n",
      "\u001b[?25h  Preparing metadata (pyproject.toml) ... \u001b[?25ldone\n",
      "\u001b[?25hRequirement already satisfied: six in /opt/saturncloud/envs/saturn/lib/python3.9/site-packages (from trash-cli) (1.16.0)\n",
      "Collecting typing\n",
      "  Downloading typing-3.7.4.3.tar.gz (78 kB)\n",
      "\u001b[2K     \u001b[90m━━━━━━━━━━━━━━━━━━━━━━━━━━━━━━━━━━━━━━━━\u001b[0m \u001b[32m78.6/78.6 kB\u001b[0m \u001b[31m7.5 MB/s\u001b[0m eta \u001b[36m0:00:00\u001b[0m\n",
      "\u001b[?25h  Preparing metadata (setup.py) ... \u001b[?25ldone\n",
      "\u001b[?25hRequirement already satisfied: psutil in /opt/saturncloud/envs/saturn/lib/python3.9/site-packages (from trash-cli) (5.9.4)\n",
      "Building wheels for collected packages: trash-cli, typing\n",
      "  Building wheel for trash-cli (pyproject.toml) ... \u001b[?25ldone\n",
      "\u001b[?25h  Created wheel for trash-cli: filename=trash_cli-0.23.2.13.2-py3-none-any.whl size=70576 sha256=d2ee79ef8820197b2b452f8568a31e433a6007d885641113e97a984ad30c8586\n",
      "  Stored in directory: /home/jovyan/.cache/pip/wheels/c9/72/9a/307fab8357d62df215eaf501f620906ec47e1e0e342794e7ce\n",
      "  Building wheel for typing (setup.py) ... \u001b[?25ldone\n",
      "\u001b[?25h  Created wheel for typing: filename=typing-3.7.4.3-py3-none-any.whl size=26323 sha256=a4a57545498f2731f5a9d286c474478aafef674c9d3f5f8ee79f865dcedf6dfa\n",
      "  Stored in directory: /home/jovyan/.cache/pip/wheels/fa/17/1f/332799f975d1b2d7f9b3f33bbccf65031e794717d24432caee\n",
      "Successfully built trash-cli typing\n",
      "Installing collected packages: typing, trash-cli\n",
      "Successfully installed trash-cli-0.23.2.13.2 typing-3.7.4.3\n"
     ]
    }
   ],
   "source": [
    "!pip install trash-cli\n",
    "!echo 'export PATH=\"$PATH\":~/.local/bin' >> ~/.bashrc\n",
    "!source ~/.bashrc # reload .bashrc"
   ]
  },
  {
   "cell_type": "code",
   "execution_count": 3,
   "id": "68a165b6",
   "metadata": {},
   "outputs": [
    {
     "name": "stdout",
     "output_type": "stream",
     "text": [
      "2023-04-28 13:08:40 /home/jovyan/workspace/hashing/core.1014\r\n",
      "2023-04-28 13:08:31 /home/jovyan/workspace/hashing/core.1011\r\n",
      "2023-04-28 13:08:40 /home/jovyan/workspace/hashing/core.1013\r\n",
      "2023-04-28 13:08:40 /home/jovyan/workspace/hashing/core.1012\r\n",
      "2023-04-28 13:08:40 /home/jovyan/workspace/hashing/core.1016\r\n",
      "2023-04-28 13:08:40 /home/jovyan/workspace/hashing/core.1015\r\n",
      "2023-04-28 13:08:40 /home/jovyan/workspace/hashing/core.1017\r\n",
      "2023-04-28 13:08:40 /home/jovyan/workspace/hashing/core.1018\r\n"
     ]
    }
   ],
   "source": [
    "!trash-list"
   ]
  },
  {
   "cell_type": "code",
   "execution_count": null,
   "id": "725c7c72",
   "metadata": {},
   "outputs": [
    {
     "name": "stdout",
     "output_type": "stream",
     "text": [
      "Would empty the following trash directories:\r\n",
      "    - /home/jovyan/.local/share/Trash\r\n",
      "Proceed? (y/n) "
     ]
    }
   ],
   "source": [
    "!trash-empty"
   ]
  },
  {
   "cell_type": "code",
   "execution_count": null,
   "id": "7eb77bf2",
   "metadata": {},
   "outputs": [],
   "source": [
    "seedval='80e7efa880ecb58f06c12454b2b891b10cf6586a561732d4158ed105190f870f'\n",
    "hashval='b4bf12d03f84c40bb385c27a0a4d4243924494a083b34e5402b30f47b7348061'"
   ]
  },
  {
   "cell_type": "code",
   "execution_count": 6,
   "id": "74e70ef7-a3e9-42b0-9dd3-3adea353b98b",
   "metadata": {
    "execution": {
     "iopub.execute_input": "2023-03-04T11:23:12.534778Z",
     "iopub.status.busy": "2023-03-04T11:23:12.534368Z",
     "iopub.status.idle": "2023-03-04T11:23:12.828103Z",
     "shell.execute_reply": "2023-03-04T11:23:12.827552Z",
     "shell.execute_reply.started": "2023-03-04T11:23:12.534705Z"
    },
    "tags": []
   },
   "outputs": [],
   "source": [
    "import numpy as np\n",
    "import pandas as pd"
   ]
  },
  {
   "cell_type": "code",
   "execution_count": 7,
   "id": "d8ebf334",
   "metadata": {},
   "outputs": [
    {
     "data": {
      "text/plain": [
       "'2.0.1'"
      ]
     },
     "execution_count": 7,
     "metadata": {},
     "output_type": "execute_result"
    }
   ],
   "source": [
    "pd.__version__"
   ]
  },
  {
   "cell_type": "code",
   "execution_count": 11,
   "id": "cc287b8f",
   "metadata": {},
   "outputs": [
    {
     "data": {
      "text/plain": [
       "'1.5.1'"
      ]
     },
     "execution_count": 11,
     "metadata": {},
     "output_type": "execute_result"
    }
   ],
   "source": [
    "import xgboost as xgb\n",
    "xgb.__version__"
   ]
  },
  {
   "cell_type": "code",
   "execution_count": 21,
   "id": "60afdc47-7e55-4f20-88f3-920c62765caa",
   "metadata": {
    "execution": {
     "iopub.execute_input": "2023-02-27T08:18:26.497133Z",
     "iopub.status.busy": "2023-02-27T08:18:26.496768Z",
     "iopub.status.idle": "2023-02-27T08:18:26.500913Z",
     "shell.execute_reply": "2023-02-27T08:18:26.500422Z",
     "shell.execute_reply.started": "2023-02-27T08:18:26.497104Z"
    },
    "tags": []
   },
   "outputs": [
    {
     "name": "stdout",
     "output_type": "stream",
     "text": [
      "[47, 60]\n",
      "4 4\n",
      "8 8\n"
     ]
    }
   ],
   "source": [
    "# sum(x == y for x, y in zip(seedval, hashval))\n",
    "\n",
    "pos = [i for  i,(x, y) in enumerate(zip(seedval, hashval)) if x==y]\n",
    "print(pos)\n",
    "for i in pos:\n",
    "    print(seedval[i],hashval[i])\n",
    "# for i "
   ]
  },
  {
   "cell_type": "code",
   "execution_count": 11,
   "id": "269f2082-3bf6-4892-babf-eb73b97fc4b9",
   "metadata": {
    "execution": {
     "iopub.execute_input": "2023-02-27T08:11:59.309126Z",
     "iopub.status.busy": "2023-02-27T08:11:59.308758Z",
     "iopub.status.idle": "2023-02-27T08:11:59.313182Z",
     "shell.execute_reply": "2023-02-27T08:11:59.312693Z",
     "shell.execute_reply.started": "2023-02-27T08:11:59.309102Z"
    },
    "tags": []
   },
   "outputs": [],
   "source": [
    "def find_matches(A,B):\n",
    "    # set the incrementors to 0\n",
    "    i=0\n",
    "    match = 0\n",
    "    pos=[]\n",
    "\n",
    "    # loop through every character in the string.\n",
    "    # Note, you may want to check to ensure that A and B are the same lengths. \n",
    "    while i<len(A):\n",
    "        # if the current characters of A and B are the same advance the match incrementor\n",
    "        if B[i] == A[i]:\n",
    "            match = match + 1\n",
    "            pos.append(i)\n",
    "\n",
    "        # Move to the next character\n",
    "        i = i + 1\n",
    "        return match, pos"
   ]
  },
  {
   "cell_type": "code",
   "execution_count": 12,
   "id": "e32d98fc-5baa-4f36-be51-dd6ac33add42",
   "metadata": {
    "execution": {
     "iopub.execute_input": "2023-02-27T08:12:00.138092Z",
     "iopub.status.busy": "2023-02-27T08:12:00.137736Z",
     "iopub.status.idle": "2023-02-27T08:12:00.141931Z",
     "shell.execute_reply": "2023-02-27T08:12:00.141445Z",
     "shell.execute_reply.started": "2023-02-27T08:12:00.138068Z"
    },
    "tags": []
   },
   "outputs": [
    {
     "data": {
      "text/plain": [
       "(0, [])"
      ]
     },
     "execution_count": 12,
     "metadata": {},
     "output_type": "execute_result"
    }
   ],
   "source": [
    "find_matches(seedval,hashval)"
   ]
  },
  {
   "cell_type": "code",
   "execution_count": 11,
   "id": "c90aeca4-5cac-44e7-90ae-6633d568b383",
   "metadata": {
    "execution": {
     "iopub.execute_input": "2023-03-04T11:27:03.506332Z",
     "iopub.status.busy": "2023-03-04T11:27:03.505945Z",
     "iopub.status.idle": "2023-03-04T11:27:03.514782Z",
     "shell.execute_reply": "2023-03-04T11:27:03.514311Z",
     "shell.execute_reply.started": "2023-03-04T11:27:03.506307Z"
    },
    "tags": []
   },
   "outputs": [
    {
     "data": {
      "text/html": [
       "<div>\n",
       "<style scoped>\n",
       "    .dataframe tbody tr th:only-of-type {\n",
       "        vertical-align: middle;\n",
       "    }\n",
       "\n",
       "    .dataframe tbody tr th {\n",
       "        vertical-align: top;\n",
       "    }\n",
       "\n",
       "    .dataframe thead th {\n",
       "        text-align: right;\n",
       "    }\n",
       "</style>\n",
       "<table border=\"1\" class=\"dataframe\">\n",
       "  <thead>\n",
       "    <tr style=\"text-align: right;\">\n",
       "      <th></th>\n",
       "      <th>Name</th>\n",
       "      <th>Maths</th>\n",
       "      <th>Science</th>\n",
       "    </tr>\n",
       "  </thead>\n",
       "  <tbody>\n",
       "    <tr>\n",
       "      <th>0</th>\n",
       "      <td>Amy</td>\n",
       "      <td>89</td>\n",
       "      <td>93</td>\n",
       "    </tr>\n",
       "    <tr>\n",
       "      <th>1</th>\n",
       "      <td>Amy</td>\n",
       "      <td>89</td>\n",
       "      <td>93</td>\n",
       "    </tr>\n",
       "  </tbody>\n",
       "</table>\n",
       "</div>"
      ],
      "text/plain": [
       "  Name  Maths  Science\n",
       "0  Amy     89       93\n",
       "1  Amy     89       93"
      ]
     },
     "metadata": {},
     "output_type": "display_data"
    }
   ],
   "source": [
    "dict = {'Name':['Martha', 'Tim', 'Rob', 'Georgia'],\n",
    "        'Maths':[87, 91, 97, 95],\n",
    "        'Science':[83, 99, 84, 76]\n",
    "       }\n",
    "  \n",
    "# df = pd.DataFrame(columns=['Name','Maths','Science'])\n",
    "  \n",
    "# display(df)\n",
    "  \n",
    "# df2 = {'Name': 'Amy', 'Maths': 89, 'Science': 93}\n",
    "df.loc[len(df.index)] = ['Amy', 89, 93] \n",
    "\n",
    "# df = df.append(df2, ignore_index = True)\n",
    "  \n",
    "display(df)"
   ]
  },
  {
   "cell_type": "code",
   "execution_count": null,
   "id": "5b9627a8-26ff-4063-980c-ee1a7409c591",
   "metadata": {},
   "outputs": [],
   "source": []
  }
 ],
 "metadata": {
  "kernelspec": {
   "display_name": "saturn (Python 3)",
   "language": "python",
   "name": "python3"
  },
  "language_info": {
   "codemirror_mode": {
    "name": "ipython",
    "version": 3
   },
   "file_extension": ".py",
   "mimetype": "text/x-python",
   "name": "python",
   "nbconvert_exporter": "python",
   "pygments_lexer": "ipython3",
   "version": "3.9.15"
  }
 },
 "nbformat": 4,
 "nbformat_minor": 5
}
